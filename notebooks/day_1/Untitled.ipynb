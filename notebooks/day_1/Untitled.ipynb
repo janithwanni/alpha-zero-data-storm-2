{
 "cells": [
  {
   "cell_type": "code",
   "execution_count": 1,
   "id": "social-software",
   "metadata": {},
   "outputs": [
    {
     "name": "stdout",
     "output_type": "stream",
     "text": [
      "/home/janith/.pyenv/versions/3.7.9/bin/python3\r\n"
     ]
    }
   ],
   "source": [
    "!which python3"
   ]
  }
 ],
 "metadata": {
  "kernelspec": {
   "display_name": "data_storm_venv",
   "language": "python",
   "name": "data_storm_venv"
  },
  "language_info": {
   "codemirror_mode": {
    "name": "ipython",
    "version": 3
   },
   "file_extension": ".py",
   "mimetype": "text/x-python",
   "name": "python",
   "nbconvert_exporter": "python",
   "pygments_lexer": "ipython3",
   "version": "3.7.9"
  }
 },
 "nbformat": 4,
 "nbformat_minor": 5
}
